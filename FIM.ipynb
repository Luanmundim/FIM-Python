{
 "cells": [
  {
   "cell_type": "code",
   "execution_count": 1,
   "id": "1a138f02",
   "metadata": {},
   "outputs": [],
   "source": [
    "import hashlib\n",
    "import sys\n",
    "import os.path\n",
    "from pathlib import Path\n",
    "from os import listdir\n",
    "from os.path import isfile, join"
   ]
  },
  {
   "cell_type": "code",
   "execution_count": 2,
   "id": "75804e53",
   "metadata": {
    "scrolled": false
   },
   "outputs": [
    {
     "data": {
      "text/plain": [
       "['Gravação.m4a', 'LENNA.jfif', 'Text.txt']"
      ]
     },
     "execution_count": 2,
     "metadata": {},
     "output_type": "execute_result"
    }
   ],
   "source": [
    "#getting all the files names at the folder\n",
    "def nameOfFiles():\n",
    "    filesNames = [f for f in listdir(\"FIM/Files\") if isfile(join(\"FIM/Files\", f))]\n",
    "    return(filesNames)\n",
    "nameOfFiles()"
   ]
  },
  {
   "cell_type": "code",
   "execution_count": 3,
   "id": "cf7c2f75",
   "metadata": {},
   "outputs": [],
   "source": [
    "# the main function that open all the files at the folder, \n",
    "#calculate the digest of each file and append to a final file\n",
    "#that will later save to a txt\n",
    "def main():\n",
    "    filesHash = ''\n",
    "    bufSize = 5000000\n",
    "    sha512 = hashlib.sha512()\n",
    "    for i in filesNames:\n",
    "        with open(\"FIM/files/\"+ i, \"rb\") as f:\n",
    "            while True:\n",
    "                data = f.read(bufSize)\n",
    "                if not data:\n",
    "                    break\n",
    "                sha512.update(data)\n",
    "                filesHash+=(sha512.hexdigest())\n",
    "    return(filesHash)"
   ]
  },
  {
   "cell_type": "code",
   "execution_count": 4,
   "id": "eadec312",
   "metadata": {},
   "outputs": [],
   "source": [
    "def createControlFile():\n",
    "    with open('fileControlData.txt','w',encoding = 'utf-8') as f:\n",
    "        for i in fileControl: f.write(i)\n",
    "    print(\"File generated, Everything is OK my brother!\")"
   ]
  },
  {
   "cell_type": "code",
   "execution_count": 5,
   "id": "d9f64aa4",
   "metadata": {
    "scrolled": true
   },
   "outputs": [
    {
     "name": "stdout",
     "output_type": "stream",
     "text": [
      "The files are intact!\n"
     ]
    }
   ],
   "source": [
    "filesNames = nameOfFiles()\n",
    "fileControl = main()\n",
    "if os.path.exists(\"fileControlData.txt\") is True:\n",
    "    with open('fileControlData.txt','r',encoding = 'utf-8') as file:\n",
    "        file = file.read()\n",
    "        if file == fileControl:    \n",
    "            print(\"The files are intact!\")\n",
    "        else:\n",
    "            if len(fileControl)> len(file):\n",
    "                answer = input(\"A file was added, do you wanna to recreate the control File?(y/n)\").lower()\n",
    "                if answer == \"y\":createControlFile()\n",
    "            else: \n",
    "                answer = input(\"A file was removed, do you wanna to recreate the control File?(y/n)\").lower()\n",
    "                if answer == \"y\":createControlFile()\n",
    "else:\n",
    "    createControlFile()"
   ]
  },
  {
   "cell_type": "code",
   "execution_count": null,
   "id": "55942b64",
   "metadata": {},
   "outputs": [],
   "source": []
  }
 ],
 "metadata": {
  "kernelspec": {
   "display_name": "Python 3 (ipykernel)",
   "language": "python",
   "name": "python3"
  },
  "language_info": {
   "codemirror_mode": {
    "name": "ipython",
    "version": 3
   },
   "file_extension": ".py",
   "mimetype": "text/x-python",
   "name": "python",
   "nbconvert_exporter": "python",
   "pygments_lexer": "ipython3",
   "version": "3.9.12"
  }
 },
 "nbformat": 4,
 "nbformat_minor": 5
}
